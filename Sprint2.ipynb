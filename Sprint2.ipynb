{
 "cells": [
  {
   "cell_type": "markdown",
   "metadata": {},
   "source": [
    "## Formula 1 Dashboard\n",
    "\n",
    "Tilda Davies\n",
    "DS 4003\n",
    "--------"
   ]
  },
  {
   "cell_type": "markdown",
   "metadata": {},
   "source": [
    "## Data Description"
   ]
  },
  {
   "cell_type": "markdown",
   "metadata": {},
   "source": [
    "The data was found from Kaggle. It was in the form of multiple CSVs that are all about different aspects of Formula 1 racing. In cleaning the data, I plan on combining these datasets into one larger dataset so that I can build my dashboard from one singular dataframe as opposed to multiple. The provenance of the data is found [here](http://ergast.com/mrd/). "
   ]
  },
  {
   "cell_type": "markdown",
   "metadata": {},
   "source": [
    "## Data Cleaning"
   ]
  },
  {
   "cell_type": "code",
   "execution_count": 43,
   "metadata": {},
   "outputs": [],
   "source": [
    "# import dependencies\n",
    "import pandas as pd\n",
    "import seaborn as sns\n",
    "import plotly.express as px\n",
    "import datetime\n",
    "from datetime import time"
   ]
  },
  {
   "cell_type": "code",
   "execution_count": 44,
   "metadata": {},
   "outputs": [],
   "source": [
    "# read in datasets\n",
    "drivers = pd.read_csv(\"/Users/tilliedavies/Desktop/DS 4003/F1 Data/drivers.csv\")\n",
    "lap_times = pd.read_csv(\"/Users/tilliedavies/Desktop/DS 4003/F1 Data/lap_times.csv\")\n",
    "pit_stops = pd.read_csv(\"/Users/tilliedavies/Desktop/DS 4003/F1 Data/pit_stops.csv\")\n",
    "races = pd.read_csv(\"/Users/tilliedavies/Desktop/DS 4003/F1 Data/races.csv\")\n",
    "results = pd.read_csv(\"/Users/tilliedavies/Desktop/DS 4003/F1 Data/results.csv\")"
   ]
  },
  {
   "cell_type": "code",
   "execution_count": 45,
   "metadata": {},
   "outputs": [],
   "source": [
    "# clean each individual csv (remove unneccesary columns)\n",
    "races = races.drop(columns=['time','url','fp1_date','fp1_time','fp2_date','fp2_time','fp3_date','fp3_time','quali_date','quali_time','sprint_date','sprint_time','circuitId','date'])\n",
    "drivers = drivers.drop(columns=['number','url','code','dob','nationality'])\n",
    "pit_stops = pit_stops.drop(columns=['time','duration'])\n",
    "lap_times = lap_times.drop(columns=['time'])\n",
    "results = results.drop(columns=['constructorId','position','positionOrder', 'statusId','resultId','number','time'])"
   ]
  },
  {
   "cell_type": "code",
   "execution_count": 46,
   "metadata": {},
   "outputs": [],
   "source": [
    "# merge all csvs into one big dataset\n",
    "races1 = pd.merge(lap_times,pit_stops, on=['raceId', 'driverId', 'lap'], how='outer')\n",
    "races2 = pd.merge(races1, races, on='raceId', how='outer')\n",
    "races3 = pd.merge(races2, drivers, on='driverId', how='outer')\n",
    "F1 = pd.merge(races3, results, on=['driverId','raceId'], how='outer')"
   ]
  },
  {
   "cell_type": "code",
   "execution_count": 47,
   "metadata": {},
   "outputs": [],
   "source": [
    "# rename columns\n",
    "F1.rename(columns={'stop':'pitStop','milliseconds_y':'pitStopDuration','milliseconds_x':'lapTime'}, inplace=True)"
   ]
  },
  {
   "cell_type": "code",
   "execution_count": 48,
   "metadata": {},
   "outputs": [],
   "source": [
    "# check null counts and drop rows that have nan's in the raceId and year column\n",
    "F1.isnull( ).sum()\n",
    "F1.dropna(subset=['raceId'],inplace=True)\n",
    "F1.dropna(subset=['year'],inplace=True)\n",
    "F1.dropna(subset=['driverId'],inplace=True)"
   ]
  },
  {
   "cell_type": "code",
   "execution_count": 49,
   "metadata": {},
   "outputs": [],
   "source": [
    "# Get rid of rows that contain '\\N' in these columns, irrelevant to our analysis.\n",
    "F1 = F1[F1['rank'] != '\\\\N']\n",
    "F1 = F1[F1['fastestLapSpeed'] != '\\\\N']\n",
    "F1 = F1[F1['milliseconds'] != '\\\\N']"
   ]
  },
  {
   "cell_type": "markdown",
   "metadata": {},
   "source": [
    "### Fix data types"
   ]
  },
  {
   "cell_type": "code",
   "execution_count": 50,
   "metadata": {},
   "outputs": [],
   "source": [
    "# convert object columns to numeric where they should be\n",
    "F1['milliseconds'] = pd.to_numeric(F1['milliseconds'])\n",
    "F1['fastestLapSpeed'] = pd.to_numeric(F1['fastestLapSpeed'])"
   ]
  },
  {
   "cell_type": "code",
   "execution_count": 51,
   "metadata": {},
   "outputs": [
    {
     "name": "stdout",
     "output_type": "stream",
     "text": [
      "<class 'pandas.core.frame.DataFrame'>\n",
      "Index: 228379 entries, 0 to 551741\n",
      "Data columns (total 22 columns):\n",
      " #   Column           Non-Null Count   Dtype  \n",
      "---  ------           --------------   -----  \n",
      " 0   raceId           228379 non-null  float64\n",
      " 1   driverId         228379 non-null  float64\n",
      " 2   lap              228379 non-null  float64\n",
      " 3   position         228379 non-null  float64\n",
      " 4   lapTime          228379 non-null  float64\n",
      " 5   pitStop          5500 non-null    float64\n",
      " 6   pitStopDuration  5500 non-null    float64\n",
      " 7   year             228379 non-null  float64\n",
      " 8   round            228379 non-null  float64\n",
      " 9   name             228379 non-null  object \n",
      " 10  driverRef        228379 non-null  object \n",
      " 11  forename         228379 non-null  object \n",
      " 12  surname          228379 non-null  object \n",
      " 13  grid             228379 non-null  float64\n",
      " 14  positionText     228379 non-null  object \n",
      " 15  points           228379 non-null  float64\n",
      " 16  laps             228379 non-null  float64\n",
      " 17  milliseconds     228379 non-null  int64  \n",
      " 18  fastestLap       228379 non-null  object \n",
      " 19  rank             228379 non-null  object \n",
      " 20  fastestLapTime   228379 non-null  object \n",
      " 21  fastestLapSpeed  228379 non-null  float64\n",
      "dtypes: float64(13), int64(1), object(8)\n",
      "memory usage: 40.1+ MB\n"
     ]
    }
   ],
   "source": [
    "F1.info()"
   ]
  },
  {
   "cell_type": "code",
   "execution_count": 52,
   "metadata": {},
   "outputs": [
    {
     "name": "stdout",
     "output_type": "stream",
     "text": [
      "<class 'pandas.core.frame.DataFrame'>\n",
      "Index: 228379 entries, 0 to 551741\n",
      "Data columns (total 22 columns):\n",
      " #   Column           Non-Null Count   Dtype  \n",
      "---  ------           --------------   -----  \n",
      " 0   raceId           228379 non-null  float64\n",
      " 1   driverId         228379 non-null  float64\n",
      " 2   lap              228379 non-null  float64\n",
      " 3   position         228379 non-null  float64\n",
      " 4   lapTime          228379 non-null  float64\n",
      " 5   pitStop          5500 non-null    float64\n",
      " 6   pitStopDuration  5500 non-null    float64\n",
      " 7   year             228379 non-null  float64\n",
      " 8   round            228379 non-null  float64\n",
      " 9   name             228379 non-null  object \n",
      " 10  driverRef        228379 non-null  object \n",
      " 11  forename         228379 non-null  object \n",
      " 12  surname          228379 non-null  object \n",
      " 13  grid             228379 non-null  float64\n",
      " 14  positionText     228379 non-null  object \n",
      " 15  points           228379 non-null  float64\n",
      " 16  laps             228379 non-null  float64\n",
      " 17  milliseconds     228379 non-null  int64  \n",
      " 18  fastestLap       228379 non-null  object \n",
      " 19  rank             228379 non-null  object \n",
      " 20  fastestLapTime   228379 non-null  object \n",
      " 21  fastestLapSpeed  228379 non-null  float64\n",
      "dtypes: float64(13), int64(1), object(8)\n",
      "memory usage: 40.1+ MB\n"
     ]
    }
   ],
   "source": [
    "F1.info()"
   ]
  },
  {
   "cell_type": "markdown",
   "metadata": {},
   "source": [
    "# EDA"
   ]
  },
  {
   "cell_type": "code",
   "execution_count": 53,
   "metadata": {},
   "outputs": [
    {
     "name": "stdout",
     "output_type": "stream",
     "text": [
      "<class 'pandas.core.frame.DataFrame'>\n",
      "Index: 228379 entries, 0 to 551741\n",
      "Data columns (total 22 columns):\n",
      " #   Column           Non-Null Count   Dtype  \n",
      "---  ------           --------------   -----  \n",
      " 0   raceId           228379 non-null  float64\n",
      " 1   driverId         228379 non-null  float64\n",
      " 2   lap              228379 non-null  float64\n",
      " 3   position         228379 non-null  float64\n",
      " 4   lapTime          228379 non-null  float64\n",
      " 5   pitStop          5500 non-null    float64\n",
      " 6   pitStopDuration  5500 non-null    float64\n",
      " 7   year             228379 non-null  float64\n",
      " 8   round            228379 non-null  float64\n",
      " 9   name             228379 non-null  object \n",
      " 10  driverRef        228379 non-null  object \n",
      " 11  forename         228379 non-null  object \n",
      " 12  surname          228379 non-null  object \n",
      " 13  grid             228379 non-null  float64\n",
      " 14  positionText     228379 non-null  object \n",
      " 15  points           228379 non-null  float64\n",
      " 16  laps             228379 non-null  float64\n",
      " 17  milliseconds     228379 non-null  int64  \n",
      " 18  fastestLap       228379 non-null  object \n",
      " 19  rank             228379 non-null  object \n",
      " 20  fastestLapTime   228379 non-null  object \n",
      " 21  fastestLapSpeed  228379 non-null  float64\n",
      "dtypes: float64(13), int64(1), object(8)\n",
      "memory usage: 40.1+ MB\n"
     ]
    }
   ],
   "source": [
    "# overview of non-null counts and data types\n",
    "F1.info()"
   ]
  },
  {
   "cell_type": "markdown",
   "metadata": {},
   "source": [
    "## How many observations does the data contain?"
   ]
  },
  {
   "cell_type": "code",
   "execution_count": 54,
   "metadata": {},
   "outputs": [
    {
     "data": {
      "text/plain": [
       "(228379, 22)"
      ]
     },
     "execution_count": 54,
     "metadata": {},
     "output_type": "execute_result"
    }
   ],
   "source": [
    "# use shape function to get the (rows, columns)\n",
    "F1.shape"
   ]
  },
  {
   "cell_type": "markdown",
   "metadata": {},
   "source": [
    "Data has 228379 observations."
   ]
  },
  {
   "cell_type": "markdown",
   "metadata": {},
   "source": [
    "## How many unique categories are there for categorical variables?"
   ]
  },
  {
   "cell_type": "code",
   "execution_count": 55,
   "metadata": {},
   "outputs": [
    {
     "data": {
      "text/plain": [
       "raceId               377\n",
       "driverId              86\n",
       "lap                   87\n",
       "position              24\n",
       "lapTime            62367\n",
       "pitStop                6\n",
       "pitStopDuration     4404\n",
       "year                  20\n",
       "round                 22\n",
       "name                  40\n",
       "driverRef             86\n",
       "forename              78\n",
       "surname               84\n",
       "grid                  25\n",
       "positionText          20\n",
       "points                28\n",
       "laps                  33\n",
       "milliseconds        3841\n",
       "fastestLap            78\n",
       "rank                  22\n",
       "fastestLapTime      3686\n",
       "fastestLapSpeed     3717\n",
       "dtype: int64"
      ]
     },
     "execution_count": 55,
     "metadata": {},
     "output_type": "execute_result"
    }
   ],
   "source": [
    "F1.nunique()"
   ]
  },
  {
   "cell_type": "markdown",
   "metadata": {},
   "source": [
    "This helps to be able to identify which variables to use as unique identifiers, for example there are 86 driverId's or driverRef's but only 84 surnames. This also ensures the data is accurate because there are 377 unique raceId's as well as 377 unique race dates. "
   ]
  },
  {
   "cell_type": "markdown",
   "metadata": {},
   "source": [
    "## How much missing data is there per variable?"
   ]
  },
  {
   "cell_type": "code",
   "execution_count": 56,
   "metadata": {},
   "outputs": [
    {
     "data": {
      "text/plain": [
       "raceId                  0\n",
       "driverId                0\n",
       "lap                     0\n",
       "position                0\n",
       "lapTime                 0\n",
       "pitStop            222879\n",
       "pitStopDuration    222879\n",
       "year                    0\n",
       "round                   0\n",
       "name                    0\n",
       "driverRef               0\n",
       "forename                0\n",
       "surname                 0\n",
       "grid                    0\n",
       "positionText            0\n",
       "points                  0\n",
       "laps                    0\n",
       "milliseconds            0\n",
       "fastestLap              0\n",
       "rank                    0\n",
       "fastestLapTime          0\n",
       "fastestLapSpeed         0\n",
       "dtype: int64"
      ]
     },
     "execution_count": 56,
     "metadata": {},
     "output_type": "execute_result"
    }
   ],
   "source": [
    "F1.isnull().sum()"
   ]
  },
  {
   "cell_type": "markdown",
   "metadata": {},
   "source": [
    "This is good! Pit stops typically don't occur during every lap of a race so it is expected to have nulls for the variables about pit stops. "
   ]
  },
  {
   "cell_type": "markdown",
   "metadata": {},
   "source": [
    "## What are the distributions of continuous variables? Are there outliers?"
   ]
  },
  {
   "cell_type": "code",
   "execution_count": 57,
   "metadata": {},
   "outputs": [
    {
     "data": {
      "text/html": [
       "<div>\n",
       "<style scoped>\n",
       "    .dataframe tbody tr th:only-of-type {\n",
       "        vertical-align: middle;\n",
       "    }\n",
       "\n",
       "    .dataframe tbody tr th {\n",
       "        vertical-align: top;\n",
       "    }\n",
       "\n",
       "    .dataframe thead th {\n",
       "        text-align: right;\n",
       "    }\n",
       "</style>\n",
       "<table border=\"1\" class=\"dataframe\">\n",
       "  <thead>\n",
       "    <tr style=\"text-align: right;\">\n",
       "      <th></th>\n",
       "      <th>lapTime</th>\n",
       "      <th>pitStopDuration</th>\n",
       "      <th>milliseconds</th>\n",
       "      <th>fastestLapSpeed</th>\n",
       "    </tr>\n",
       "  </thead>\n",
       "  <tbody>\n",
       "    <tr>\n",
       "      <th>count</th>\n",
       "      <td>2.283790e+05</td>\n",
       "      <td>5.500000e+03</td>\n",
       "      <td>2.283790e+05</td>\n",
       "      <td>228379.000000</td>\n",
       "    </tr>\n",
       "    <tr>\n",
       "      <th>mean</th>\n",
       "      <td>9.848223e+04</td>\n",
       "      <td>9.578994e+04</td>\n",
       "      <td>5.910809e+06</td>\n",
       "      <td>205.219991</td>\n",
       "    </tr>\n",
       "    <tr>\n",
       "      <th>std</th>\n",
       "      <td>8.939874e+04</td>\n",
       "      <td>3.326788e+05</td>\n",
       "      <td>1.073867e+06</td>\n",
       "      <td>21.177932</td>\n",
       "    </tr>\n",
       "    <tr>\n",
       "      <th>min</th>\n",
       "      <td>5.540400e+04</td>\n",
       "      <td>1.317300e+04</td>\n",
       "      <td>4.252092e+06</td>\n",
       "      <td>148.589000</td>\n",
       "    </tr>\n",
       "    <tr>\n",
       "      <th>25%</th>\n",
       "      <td>8.267450e+04</td>\n",
       "      <td>2.170500e+04</td>\n",
       "      <td>5.359668e+06</td>\n",
       "      <td>195.201000</td>\n",
       "    </tr>\n",
       "    <tr>\n",
       "      <th>50%</th>\n",
       "      <td>9.387200e+04</td>\n",
       "      <td>2.339000e+04</td>\n",
       "      <td>5.675199e+06</td>\n",
       "      <td>206.346000</td>\n",
       "    </tr>\n",
       "    <tr>\n",
       "      <th>75%</th>\n",
       "      <td>1.041980e+05</td>\n",
       "      <td>2.583350e+04</td>\n",
       "      <td>6.052930e+06</td>\n",
       "      <td>218.566000</td>\n",
       "    </tr>\n",
       "    <tr>\n",
       "      <th>max</th>\n",
       "      <td>7.506656e+06</td>\n",
       "      <td>3.069017e+06</td>\n",
       "      <td>1.474314e+07</td>\n",
       "      <td>257.320000</td>\n",
       "    </tr>\n",
       "  </tbody>\n",
       "</table>\n",
       "</div>"
      ],
      "text/plain": [
       "            lapTime  pitStopDuration  milliseconds  fastestLapSpeed\n",
       "count  2.283790e+05     5.500000e+03  2.283790e+05    228379.000000\n",
       "mean   9.848223e+04     9.578994e+04  5.910809e+06       205.219991\n",
       "std    8.939874e+04     3.326788e+05  1.073867e+06        21.177932\n",
       "min    5.540400e+04     1.317300e+04  4.252092e+06       148.589000\n",
       "25%    8.267450e+04     2.170500e+04  5.359668e+06       195.201000\n",
       "50%    9.387200e+04     2.339000e+04  5.675199e+06       206.346000\n",
       "75%    1.041980e+05     2.583350e+04  6.052930e+06       218.566000\n",
       "max    7.506656e+06     3.069017e+06  1.474314e+07       257.320000"
      ]
     },
     "execution_count": 57,
     "metadata": {},
     "output_type": "execute_result"
    }
   ],
   "source": [
    "# first need to subset the F1 df to only the continuous variables\n",
    "cont_vars = F1[['lapTime','pitStopDuration','milliseconds','fastestLapSpeed']]\n",
    "\n",
    "# use dsecribe function to get numerical summaries of each variable\n",
    "cont_vars.describe()"
   ]
  },
  {
   "cell_type": "markdown",
   "metadata": {},
   "source": [
    "Appears to be an outlier in lapTime shown as the max. "
   ]
  },
  {
   "cell_type": "markdown",
   "metadata": {},
   "source": [
    "## Data Dictionary"
   ]
  },
  {
   "cell_type": "markdown",
   "metadata": {},
   "source": [
    "| Variable Name | Definition |\n",
    "|-----------------|----------------------------------|\n",
    "| raceID   | Unique identifier for each Formula 1 race.   |\n",
    "| driverId   | Unique identifier for each Formula 1 driver.   |\n",
    "| lap    | Lap number.  |\n",
    "| position | What position the driver is in during each lap of each race.|\n",
    "| lapTime | Duration of each lap (in milliseconds)|\n",
    "|pitStop|Number of pit stop, 1 being the first pit stop taken.|\n",
    "|pitStopDuration|Duration of pit stop in milliseconds.|\n",
    "|round | Round number of Grand Prix. |\n",
    "|name| Name of race| \n",
    "| date| Date of race|\n",
    "|driverRef|Unique identifier for each driver that is typically last name, with a first initial when necessary|\n",
    "| points| Points scored in each race.|\n",
    "| laps| Total amount of laps in that race (not consistent across all Grand Prixes)|\n",
    "| milliseconds| Total time to complete race (in milliseconds)|\n",
    "| fastestLap| Lap in which it took the least amount of time to complete.|\n",
    "| fastestLapSpeed| Recorded speed of the fastestLap (in mph)|"
   ]
  },
  {
   "cell_type": "markdown",
   "metadata": {},
   "source": [
    "## UI Components\n",
    "- Slider to select year or range of years.\n",
    "- Dropdown to select specific Grand Prixes.\n",
    "- Search bar or other quick way for user to find their favorite driver quickly.\n",
    "- Select two drivers via dropdown to compare performance. "
   ]
  },
  {
   "cell_type": "markdown",
   "metadata": {},
   "source": [
    "## Data Visualization Brainstorm\n",
    "- Line graph showing points accumulation over one season, colored by driver.\n",
    "- Bar chart showing wins over time.\n",
    "- Line graph showing speed by lap.\n",
    "- Scatter plot of pit stop duration vs final rank in race, this could be filtered on Grand Priz using a multi-select dropdown. "
   ]
  },
  {
   "cell_type": "code",
   "execution_count": 58,
   "metadata": {},
   "outputs": [],
   "source": [
    "F1=F1[F1['year']>=2009]"
   ]
  },
  {
   "cell_type": "code",
   "execution_count": 59,
   "metadata": {},
   "outputs": [],
   "source": [
    "F1.to_csv('data.csv',index=False)"
   ]
  }
 ],
 "metadata": {
  "kernelspec": {
   "display_name": "ds4003",
   "language": "python",
   "name": "python3"
  },
  "language_info": {
   "codemirror_mode": {
    "name": "ipython",
    "version": 3
   },
   "file_extension": ".py",
   "mimetype": "text/x-python",
   "name": "python",
   "nbconvert_exporter": "python",
   "pygments_lexer": "ipython3",
   "version": "3.8.18"
  }
 },
 "nbformat": 4,
 "nbformat_minor": 2
}
